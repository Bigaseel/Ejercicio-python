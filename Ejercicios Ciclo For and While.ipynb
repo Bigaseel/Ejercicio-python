{
 "cells": [
  {
   "attachments": {},
   "cell_type": "markdown",
   "metadata": {},
   "source": [
    "### Cicilo WHILE\n",
    "\n"
   ]
  },
  {
   "cell_type": "code",
   "execution_count": null,
   "metadata": {},
   "outputs": [
    {
     "name": "stdout",
     "output_type": "stream",
     "text": [
      "la suma del numero es  1\n",
      "la suma del numero es  3\n",
      "la suma del numero es  5\n",
      "la suma del numero es  7\n",
      "la suma del numero es  9\n"
     ]
    }
   ],
   "source": [
    "numero = 1\n",
    "\n",
    "while numero <=10:\n",
    "    print( numero )\n",
    "    numero +=2\n",
    "    "
   ]
  },
  {
   "attachments": {},
   "cell_type": "markdown",
   "metadata": {},
   "source": [
    "### sumar multiplos de 5 hasta llegar a menor ed 50"
   ]
  },
  {
   "cell_type": "code",
   "execution_count": null,
   "metadata": {},
   "outputs": [
    {
     "name": "stdout",
     "output_type": "stream",
     "text": [
      "La suma es : 765\n"
     ]
    }
   ],
   "source": [
    "numero = 5\n",
    "suma= 0\n",
    "Numero_solicitado = int(input(\"Introduce un numero\"))\n",
    "while numero < Numero_solicitado:\n",
    "    suma = suma + numero\n",
    "    numero += 5\n",
    "print(f\"La suma es : {suma}\")\n",
    "\n",
    "\n",
    "    "
   ]
  },
  {
   "attachments": {},
   "cell_type": "markdown",
   "metadata": {},
   "source": [
    "### Tabla de multiplicar"
   ]
  },
  {
   "cell_type": "code",
   "execution_count": null,
   "metadata": {},
   "outputs": [
    {
     "name": "stdout",
     "output_type": "stream",
     "text": [
      "7 * 1 = 7\n",
      "7 * 2 = 14\n",
      "7 * 3 = 21\n",
      "7 * 4 = 28\n",
      "7 * 5 = 35\n",
      "7 * 6 = 42\n",
      "7 * 7 = 49\n",
      "7 * 8 = 56\n",
      "7 * 9 = 63\n",
      "7 * 10 = 70\n"
     ]
    }
   ],
   "source": [
    "nume = 7\n",
    "inicio = 1\n",
    "while inicio <= 10:\n",
    "    resultado = nume * inicio\n",
    "    print(nume, \"*\", inicio, \"=\", resultado)\n",
    "    inicio += 1"
   ]
  },
  {
   "attachments": {},
   "cell_type": "markdown",
   "metadata": {},
   "source": [
    "### Escribir un programa que pida al usuario una palabra y la muestre por pantalla 10 veces."
   ]
  },
  {
   "cell_type": "code",
   "execution_count": 12,
   "metadata": {},
   "outputs": [
    {
     "name": "stdout",
     "output_type": "stream",
     "text": [
      "Hola\n",
      "Hola\n",
      "Hola\n",
      "Hola\n",
      "Hola\n",
      "Hola\n",
      "Hola\n",
      "Hola\n",
      "Hola\n",
      "Hola\n"
     ]
    }
   ],
   "source": [
    "palabra = input(\"Ingresa una palabra\")\n",
    "\n",
    "for i in range(10):\n",
    "    print(palabra)\n",
    "   \n",
    "\n",
    "    "
   ]
  },
  {
   "attachments": {},
   "cell_type": "markdown",
   "metadata": {},
   "source": [
    "\n",
    "### Escribir un programa que pregunte al usuario su edad y muestre por pantalla todos los años que ha cumplido (desde 1 hasta su edad)."
   ]
  },
  {
   "cell_type": "code",
   "execution_count": 21,
   "metadata": {},
   "outputs": [
    {
     "name": "stdout",
     "output_type": "stream",
     "text": [
      "Has cumplido 1 años\n",
      "Has cumplido 2 años\n",
      "Has cumplido 3 años\n",
      "Has cumplido 4 años\n",
      "Has cumplido 5 años\n"
     ]
    }
   ],
   "source": [
    "age = int(input(\"¿Cuántos años tienes? \"))\n",
    "for i in range(age):\n",
    "    print(\"Has cumplido \" + str(i+1) + \" años\")\n",
    "    \n",
    "    \n",
    "    \n",
    "    "
   ]
  },
  {
   "attachments": {},
   "cell_type": "markdown",
   "metadata": {},
   "source": [
    "### Escribir un programa que pida al usuario un número entero positivo y muestre por pantalla todos los números impares desde 1 hasta ese número separados por comas."
   ]
  },
  {
   "cell_type": "code",
   "execution_count": 27,
   "metadata": {},
   "outputs": [
    {
     "name": "stdout",
     "output_type": "stream",
     "text": [
      "1,3,5,7,9,"
     ]
    }
   ],
   "source": [
    "entero = int(input(\"Ingresa un numero entero\"))\n",
    "\n",
    "for i in range(1, entero + 1,2):\n",
    "    print(i, end=\",\")"
   ]
  },
  {
   "attachments": {},
   "cell_type": "markdown",
   "metadata": {},
   "source": [
    "### Escribir un programa que pida al usuario un número entero positivo y muestre por pantalla la cuenta atrás desde ese número hasta cero separados por comas."
   ]
  },
  {
   "cell_type": "code",
   "execution_count": 36,
   "metadata": {},
   "outputs": [
    {
     "name": "stdout",
     "output_type": "stream",
     "text": [
      "14,13,12,11,10,9,8,7,6,5,4,3,2,1,0,"
     ]
    }
   ],
   "source": [
    "numero = int(input(\"Ingresa un numero entero\"))\n",
    "\n",
    "while numero >= 0:\n",
    "    print(numero, end= \",\")\n",
    "    numero -= 1\n",
    "    "
   ]
  },
  {
   "attachments": {},
   "cell_type": "markdown",
   "metadata": {},
   "source": [
    "### Escribir un programa que pregunte al usuario una cantidad a invertir, el interés anual y el número de años, y muestre por pantalla el capital obtenido en la inversión cada año que dura la inversión."
   ]
  },
  {
   "cell_type": "code",
   "execution_count": 44,
   "metadata": {},
   "outputs": [
    {
     "name": "stdout",
     "output_type": "stream",
     "text": [
      "Capital tras 1 años: 1100.0\n",
      "Capital tras 2 años: 1210.0\n",
      "Capital tras 3 años: 1331.0\n",
      "Capital tras 4 años: 1464.1\n",
      "Capital tras 5 años: 1610.51\n",
      "Capital tras 6 años: 1771.56\n",
      "Capital tras 7 años: 1948.72\n",
      "Capital tras 8 años: 2143.59\n",
      "Capital tras 9 años: 2357.95\n",
      "Capital tras 10 años: 2593.74\n"
     ]
    }
   ],
   "source": [
    "Inversion = float(input(\"Ingrese la cantidad a invertir\"))\n",
    "Interes = float(input(\"Ingrese el interes\"))\n",
    "años = int(input(\"Ingrese el numero de años\"))\n",
    "for i in range(años):\n",
    "    Inversion *= 1 + Interes / 100 \n",
    "    print(f\"Capital tras \" + str(i+1) + \" años: \" + str(round(Inversion, 2)))\n"
   ]
  },
  {
   "attachments": {},
   "cell_type": "markdown",
   "metadata": {},
   "source": [
    "### Escribir un programa que pida al usuario un número entero y muestre por pantalla un triángulo rectángulo como el de más abajo, de altura el número introducido."
   ]
  },
  {
   "cell_type": "code",
   "execution_count": 56,
   "metadata": {},
   "outputs": [
    {
     "name": "stdout",
     "output_type": "stream",
     "text": [
      "\n",
      "+\n",
      "++\n",
      "+++\n",
      "++++\n",
      "+++++\n",
      "++++++\n",
      "+++++++\n",
      "++++++++\n",
      "+++++++++\n",
      "++++++++++\n"
     ]
    }
   ],
   "source": [
    "numero = int(input(\"Ingresa un numero\"))\n",
    "\n",
    "for i in range(numero + 1):\n",
    "    print(\"+\"*i)\n",
    "   \n",
    "   "
   ]
  },
  {
   "attachments": {},
   "cell_type": "markdown",
   "metadata": {},
   "source": [
    "### Escribir un programa que muestre por pantalla la tabla de multiplicar del 1 al 10."
   ]
  },
  {
   "cell_type": "code",
   "execution_count": 62,
   "metadata": {},
   "outputs": [
    {
     "name": "stdout",
     "output_type": "stream",
     "text": [
      "1 * 10 = 10\n",
      "2 * 10 = 20\n",
      "3 * 10 = 30\n",
      "4 * 10 = 40\n",
      "5 * 10 = 50\n",
      "6 * 10 = 60\n",
      "7 * 10 = 70\n",
      "8 * 10 = 80\n",
      "9 * 10 = 90\n",
      "10 * 10 = 100\n"
     ]
    }
   ],
   "source": [
    "tabla = 10\n",
    "inicio = 1\n",
    "\n",
    "while inicio <=10:\n",
    "    resultado = tabla * inicio\n",
    "    print (inicio, \"*\" , tabla, \"=\", resultado)\n",
    "    inicio += 1\n",
    "    "
   ]
  },
  {
   "cell_type": "code",
   "execution_count": null,
   "metadata": {},
   "outputs": [],
   "source": []
  }
 ],
 "metadata": {
  "kernelspec": {
   "display_name": "Python 3",
   "language": "python",
   "name": "python3"
  },
  "language_info": {
   "codemirror_mode": {
    "name": "ipython",
    "version": 3
   },
   "file_extension": ".py",
   "mimetype": "text/x-python",
   "name": "python",
   "nbconvert_exporter": "python",
   "pygments_lexer": "ipython3",
   "version": "3.11.6"
  },
  "orig_nbformat": 4
 },
 "nbformat": 4,
 "nbformat_minor": 2
}
