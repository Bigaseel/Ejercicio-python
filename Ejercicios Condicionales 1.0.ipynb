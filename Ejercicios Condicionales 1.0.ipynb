{
 "cells": [
  {
   "attachments": {},
   "cell_type": "markdown",
   "metadata": {},
   "source": [
    "## Sentencias if, elif, else "
   ]
  },
  {
   "cell_type": "code",
   "execution_count": 2,
   "metadata": {},
   "outputs": [
    {
     "name": "stdout",
     "output_type": "stream",
     "text": [
      "El numero es negativo\n"
     ]
    }
   ],
   "source": [
    "numero = -6\n",
    "if numero > 0: #los dos puntos son \"entonces\"\n",
    "    print(\"El numero es positivo\")\n",
    "elif numero < 0:\n",
    "    print(\"El numero es negativo\")\n",
    "else:\n",
    "    print(\"El numero es igual a cero\")\n",
    "    "
   ]
  },
  {
   "cell_type": "code",
   "execution_count": 3,
   "metadata": {},
   "outputs": [
    {
     "name": "stdout",
     "output_type": "stream",
     "text": [
      "El numero es positivo\n",
      "El tipo de dato es flotante\n"
     ]
    }
   ],
   "source": [
    "flotante = 4.5\n",
    "if flotante > 0:\n",
    "    print(\"El numero es positivo\")\n",
    "if type(flotante) == float:                              # Si queremos evaluar mas de una es importante que usemos if if \n",
    "    print(\"El tipo de dato es flotante\")                 "
   ]
  },
  {
   "cell_type": "code",
   "execution_count": 6,
   "metadata": {},
   "outputs": [
    {
     "name": "stdout",
     "output_type": "stream",
     "text": [
      "Su calificacion es:  F\n"
     ]
    }
   ],
   "source": [
    "puntuacion = 59\n",
    "if puntuacion >= 90:\n",
    "    calificaion = \"A\"\n",
    "elif puntuacion >= 80:\n",
    "    calificaion = \"B\"\n",
    "elif puntuacion >=70:\n",
    "    calificaion = \"C\"\n",
    "elif puntuacion >= 60:\n",
    "    calificaion = \"D\"\n",
    "else:\n",
    "    calificaion = \"F\"\n",
    "print(\"Su calificacion es: \", calificaion)\n"
   ]
  },
  {
   "attachments": {},
   "cell_type": "markdown",
   "metadata": {},
   "source": [
    "# Ciclo Iterativo FOR"
   ]
  },
  {
   "cell_type": "code",
   "execution_count": 8,
   "metadata": {},
   "outputs": [
    {
     "name": "stdout",
     "output_type": "stream",
     "text": [
      "0\n",
      "1\n",
      "2\n",
      "3\n",
      "4\n"
     ]
    }
   ],
   "source": [
    "for numero in range( 0,  5 ):\n",
    "    print(numero)"
   ]
  },
  {
   "cell_type": "code",
   "execution_count": 18,
   "metadata": {},
   "outputs": [
    {
     "name": "stdout",
     "output_type": "stream",
     "text": [
      "H\n",
      "o\n",
      "l\n",
      "a\n",
      " \n",
      "M\n",
      "u\n",
      "n\n",
      "d\n",
      "o\n"
     ]
    }
   ],
   "source": [
    "texto = \"Hola Mundo\"\n",
    "for letra in texto:\n",
    "    print(letra)            "
   ]
  },
  {
   "cell_type": "code",
   "execution_count": 17,
   "metadata": {},
   "outputs": [
    {
     "name": "stdout",
     "output_type": "stream",
     "text": [
      "H\n",
      "O\n",
      "L\n",
      "A\n",
      " \n",
      "M\n",
      "U\n",
      "N\n",
      "D\n",
      "O\n"
     ]
    }
   ],
   "source": [
    "texto = \"Hola Mundo\"\n",
    "for letra in texto:\n",
    "    print(letra.upper())    "
   ]
  },
  {
   "cell_type": "code",
   "execution_count": 19,
   "metadata": {},
   "outputs": [
    {
     "name": "stdout",
     "output_type": "stream",
     "text": [
      "H O L A   M U N D O "
     ]
    }
   ],
   "source": [
    "   texto = \"Hola Mundo\"\n",
    "for letra in texto:\n",
    "    print(letra.upper(), end=\" \")                                         # .upper es para convertir todas las letras en Mayusculas # end= \"\" para no hacer salto de linea"
   ]
  },
  {
   "cell_type": "code",
   "execution_count": 22,
   "metadata": {},
   "outputs": [
    {
     "name": "stdout",
     "output_type": "stream",
     "text": [
      "El numero es esta iteracion es:  0\n",
      "la suma va :  0\n",
      "El numero es esta iteracion es:  1\n",
      "la suma va :  1\n",
      "El numero es esta iteracion es:  2\n",
      "la suma va :  3\n",
      "El numero es esta iteracion es:  3\n",
      "la suma va :  6\n",
      "El numero es esta iteracion es:  4\n",
      "la suma va :  10\n",
      "El numero es esta iteracion es:  5\n",
      "la suma va :  15\n",
      "El numero es esta iteracion es:  6\n",
      "la suma va :  21\n",
      "El numero es esta iteracion es:  7\n",
      "la suma va :  28\n",
      "El numero es esta iteracion es:  8\n",
      "la suma va :  36\n",
      "El numero es esta iteracion es:  9\n",
      "la suma va :  45\n",
      "El numero es esta iteracion es:  10\n",
      "la suma va :  55\n",
      "El resultado final es: 55\n"
     ]
    }
   ],
   "source": [
    "suma = 0\n",
    "for numero in range(0, 11):\n",
    "    print(\"El numero es esta iteracion es: \", numero)\n",
    "    suma += numero \n",
    "    print(\"la suma va : \", suma)\n",
    "print(\"El resultado final es:\", suma)\n",
    "\n"
   ]
  },
  {
   "attachments": {},
   "cell_type": "markdown",
   "metadata": {},
   "source": [
    "# Ciclo While "
   ]
  },
  {
   "cell_type": "code",
   "execution_count": 2,
   "metadata": {},
   "outputs": [
    {
     "name": "stdout",
     "output_type": "stream",
     "text": [
      "5 4 3 2 1 "
     ]
    }
   ],
   "source": [
    "numero = 5\n",
    "\n",
    "while numero >= 1:\n",
    "    print(numero, end= \" \")\n",
    "    numero -= 1\n",
    "    "
   ]
  },
  {
   "cell_type": "code",
   "execution_count": 3,
   "metadata": {},
   "outputs": [
    {
     "name": "stdout",
     "output_type": "stream",
     "text": [
      "1 2 3 4 5 "
     ]
    }
   ],
   "source": [
    "contador = 1\n",
    "maximo = 5\n",
    "while contador <= 5:\n",
    "    print(contador, end= \" \")\n",
    "    contador += 1\n",
    "    \n",
    "    "
   ]
  },
  {
   "attachments": {},
   "cell_type": "markdown",
   "metadata": {},
   "source": [
    "# Sentenicas Break and Continue \n"
   ]
  },
  {
   "cell_type": "code",
   "execution_count": 7,
   "metadata": {},
   "outputs": [
    {
     "name": "stdout",
     "output_type": "stream",
     "text": [
      "1 3 5 7 9 "
     ]
    }
   ],
   "source": [
    "for numero in range(1, 11):\n",
    "    if numero % 2 == 0:\n",
    "        print(numero, end=\" \")\n",
    "    else:\n",
    "        continue"
   ]
  },
  {
   "cell_type": "code",
   "execution_count": 12,
   "metadata": {},
   "outputs": [
    {
     "name": "stdout",
     "output_type": "stream",
     "text": [
      "Pythn s n lngj d prgrmcn "
     ]
    }
   ],
   "source": [
    "frase = \"Python es un lenguaje de programacion \"\n",
    "vocales = \"aeiou\"\n",
    "for letra in frase:\n",
    "    if letra in vocales:\n",
    "        continue\n",
    "    print(letra, end= \"\")"
   ]
  },
  {
   "cell_type": "code",
   "execution_count": 6,
   "metadata": {},
   "outputs": [],
   "source": [
    "for numero in range(1, 11):\n",
    "    if numero % 2 == 0:\n",
    "        print(numero, end=\" \")               # Con break la sentencia ya no avanza por que el primero valor es falso \n",
    "    else:\n",
    "        break"
   ]
  },
  {
   "cell_type": "code",
   "execution_count": 23,
   "metadata": {},
   "outputs": [
    {
     "name": "stdout",
     "output_type": "stream",
     "text": [
      "Es primo\n"
     ]
    }
   ],
   "source": [
    "numero = 15\n",
    "if numero % 2 == 1:\n",
    " if numero == numero:\n",
    "    print(\"Es primo\")\n",
    "else:\n",
    "    print(\"No es primo\")\n"
   ]
  },
  {
   "cell_type": "code",
   "execution_count": 8,
   "metadata": {},
   "outputs": [
    {
     "data": {
      "text/plain": [
       "1"
      ]
     },
     "execution_count": 8,
     "metadata": {},
     "output_type": "execute_result"
    }
   ],
   "source": [
    "3 % 2"
   ]
  },
  {
   "cell_type": "code",
   "execution_count": 31,
   "metadata": {},
   "outputs": [
    {
     "name": "stdout",
     "output_type": "stream",
     "text": [
      "5.5 es un número primo\n"
     ]
    }
   ],
   "source": [
    "def es_primo(numero):\n",
    "    if numero <= 1:\n",
    "        return False\n",
    "    for i in range(2, int(numero ** 0.5) + 1):\n",
    "        if numero % i == 0:\n",
    "            return False\n",
    "    return True\n",
    "\n",
    "# Ejemplos de uso\n",
    "numero = 5.5\n",
    "if es_primo(numero):\n",
    "    print(f'{numero} es un número primo')\n",
    "else:\n",
    "    print(f'{numero} no es un número primo')\n",
    "\n"
   ]
  }
 ],
 "metadata": {
  "kernelspec": {
   "display_name": "Python 3",
   "language": "python",
   "name": "python3"
  },
  "language_info": {
   "codemirror_mode": {
    "name": "ipython",
    "version": 3
   },
   "file_extension": ".py",
   "mimetype": "text/x-python",
   "name": "python",
   "nbconvert_exporter": "python",
   "pygments_lexer": "ipython3",
   "version": "3.11.6"
  },
  "orig_nbformat": 4
 },
 "nbformat": 4,
 "nbformat_minor": 2
}
