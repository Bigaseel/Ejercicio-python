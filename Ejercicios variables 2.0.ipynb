{
 "cells": [
  {
   "attachments": {},
   "cell_type": "markdown",
   "metadata": {},
   "source": [
    "### Escribe un Programa que muestre \"Hola Mundo\" en pantalla "
   ]
  },
  {
   "cell_type": "code",
   "execution_count": null,
   "metadata": {},
   "outputs": [],
   "source": []
  },
  {
   "cell_type": "code",
   "execution_count": 2,
   "metadata": {},
   "outputs": [
    {
     "name": "stdout",
     "output_type": "stream",
     "text": [
      "Hola Mundo\n"
     ]
    }
   ],
   "source": [
    "\n",
    "print(\"Hola Mundo\")\n"
   ]
  },
  {
   "attachments": {},
   "cell_type": "markdown",
   "metadata": {},
   "source": [
    "### Escribe un programa que almacene la variable \"Hola Mundo\" y luego muetralo en pantalla"
   ]
  },
  {
   "cell_type": "code",
   "execution_count": 3,
   "metadata": {},
   "outputs": [
    {
     "name": "stdout",
     "output_type": "stream",
     "text": [
      "Hola Mundo\n"
     ]
    }
   ],
   "source": [
    "Entrada = \"Hola Mundo\"\n",
    "print(Entrada)"
   ]
  },
  {
   "attachments": {},
   "cell_type": "markdown",
   "metadata": {},
   "source": [
    "### Escribir un programa que pregunte el nombre del usuario en la consola y después de que el usuario lo introduzca muestre por pantalla la cadena ¡Hola <nombre>!, donde <nombre> es el nombre que el usuario haya introducido."
   ]
  },
  {
   "cell_type": "code",
   "execution_count": 9,
   "metadata": {},
   "outputs": [
    {
     "name": "stdout",
     "output_type": "stream",
     "text": [
      "Hola Esau Garcia\n"
     ]
    }
   ],
   "source": [
    "Nombre = \"Esau Garcia\"\n",
    "print(f\"Hola {Nombre}\")"
   ]
  },
  {
   "attachments": {},
   "cell_type": "markdown",
   "metadata": {},
   "source": [
    "### Escribir un programa que muestre por pantalla el resultado de la siguiente operación aritmética \n",
    " \n"
   ]
  },
  {
   "cell_type": "code",
   "execution_count": 14,
   "metadata": {},
   "outputs": [
    {
     "name": "stdout",
     "output_type": "stream",
     "text": [
      "4.0\n"
     ]
    }
   ],
   "source": [
    "a = 3 + 2\n",
    "b= (a / 2.5)**2\n",
    "print(b)"
   ]
  },
  {
   "attachments": {},
   "cell_type": "markdown",
   "metadata": {},
   "source": [
    "### Escribir un programa que pregunte al usuario por el número de horas trabajadas y el coste por hora. Después debe mostrar por pantalla la paga que le corresponde."
   ]
  },
  {
   "cell_type": "code",
   "execution_count": 29,
   "metadata": {},
   "outputs": [
    {
     "name": "stdout",
     "output_type": "stream",
     "text": [
      "Usted trabajo 4.67 Su paga es de: 107.41\n"
     ]
    }
   ],
   "source": [
    "Coste_por_hora = 23\n",
    "Cuantas_horas_trabajo = float(input())\n",
    "if Cuantas_horas_trabajo <= 0:\n",
    "    print(\"Ingrese un numero de horas correctas\")\n",
    "if Cuantas_horas_trabajo >=10:\n",
    "    print(\"Ingrese un numero de horas correctas\")\n",
    "else:\n",
    "    print(f\"Usted trabajo {Cuantas_horas_trabajo}\", \"Su paga es de:\", float(Cuantas_horas_trabajo*Coste_por_hora))\n",
    "\n",
    "    "
   ]
  },
  {
   "attachments": {},
   "cell_type": "markdown",
   "metadata": {},
   "source": [
    "### Escribir un programa que lea un entero positivo, introducido por el usuario y después muestre en pantalla la suma de todos los enteros desde 1 hasta  La suma de los primeros enteros positivos puede ser calculada de la siguiente forma:"
   ]
  },
  {
   "cell_type": "code",
   "execution_count": 35,
   "metadata": {},
   "outputs": [
    {
     "name": "stdout",
     "output_type": "stream",
     "text": [
      "La suma de los primeros numeros enteros desde 1 hasta 7, es 28.0\n"
     ]
    }
   ],
   "source": [
    "a = int(input(\"Introduce un numero entero\"))\n",
    "suma = a * (a + 1) / 2\n",
    "print(f\"La suma de los primeros numeros enteros desde 1 hasta {a}, es {suma}\")\n",
    "\n"
   ]
  },
  {
   "attachments": {},
   "cell_type": "markdown",
   "metadata": {},
   "source": [
    "### Escribir un programa que pida al usuario su peso (en kg) y estatura (en metros), calcule el índice de masa corporal y lo almacene en una variable, y muestre por pantalla la frase Tu índice de masa corporal es <imc> donde <imc> es el índice de masa corporal calculado redondeado con dos decimales."
   ]
  },
  {
   "cell_type": "code",
   "execution_count": 46,
   "metadata": {},
   "outputs": [
    {
     "name": "stdout",
     "output_type": "stream",
     "text": [
      "Tu índice de masa corporal es 20.58\n"
     ]
    }
   ],
   "source": [
    "Peso = float(input(\"Ingresa tu peso en kilogramos\"))\n",
    "Estatura = float(input(\"Ingresa tu estatura en metros\"))\n",
    "imc = round(float(Peso)/float(Estatura)**2,2)\n",
    "print(\"Tu índice de masa corporal es \" + str(imc))\n"
   ]
  },
  {
   "attachments": {},
   "cell_type": "markdown",
   "metadata": {},
   "source": [
    "### Escribir un programa que pregunte al usuario una cantidad a invertir, el interés anual y el número de años, y muestre por pantalla el capital obtenido en la inversión."
   ]
  },
  {
   "cell_type": "code",
   "execution_count": 61,
   "metadata": {},
   "outputs": [
    {
     "name": "stdout",
     "output_type": "stream",
     "text": [
      "Minimo de años es de 1\n"
     ]
    }
   ],
   "source": [
    "Inversion = float(input(\"Ingresa la cantidad de dinero que desea invertir\"))\n",
    "Interes = 6.76\n",
    "Años = int(input(\"Años de inversion \"))\n",
    "if  Años <=0:\n",
    "    print(\"Minimo de años es de 1\")\n",
    "else:\n",
    " if  Años >=10:\n",
    "    \n",
    "    print(\"Maximo de años es de 10\")\n",
    " else:\n",
    "    \n",
    "    print(f\"Ganancias de Inversion: \", round(Inversion * (Interes / 100 + 1) ** Años, ))\n",
    "\n",
    " "
   ]
  },
  {
   "attachments": {},
   "cell_type": "markdown",
   "metadata": {},
   "source": [
    "### Una juguetería tiene mucho éxito en dos de sus productos: payasos y muñecas. Suele hacer venta por correo y la empresa de logística les cobra por peso de cada paquete así que deben calcular el peso de los payasos y muñecas que saldrán en cada paquete a demanda. Cada payaso pesa 112 g y cada muñeca 75 g. Escribir un programa que lea el número de payasos y muñecas vendidos en el último pedido y calcule el peso total del paquete que será enviado."
   ]
  },
  {
   "cell_type": "code",
   "execution_count": 2,
   "metadata": {},
   "outputs": [
    {
     "name": "stdout",
     "output_type": "stream",
     "text": [
      "El peso total de la compra es de: 187g\n"
     ]
    }
   ],
   "source": [
    "Payaso = int(input(\"Numero total de payasos\"))\n",
    "Muñecas = int(input(\"Numero total de muñecas\"))\n",
    "Peso_Total = int((Payaso * 112) + (Muñecas * 75 ))\n",
    "print (f\"El peso total de la compra es de: {Peso_Total}g\")\n",
    "\n"
   ]
  },
  {
   "attachments": {},
   "cell_type": "markdown",
   "metadata": {},
   "source": [
    "### Imagina que acabas de abrir una nueva cuenta de ahorros que te ofrece el 4% de interés al año. Estos ahorros debido a intereses, que no se cobran hasta finales de año, se te añaden al balance final de tu cuenta de ahorros. Escribir un programa que comience leyendo la cantidad de dinero depositada en la cuenta de ahorros, introducida por el usuario. Después el programa debe calcular y mostrar por pantalla la cantidad de ahorros tras el primer, segundo y tercer años. Redondear cada cantidad a dos decimales."
   ]
  },
  {
   "cell_type": "code",
   "execution_count": null,
   "metadata": {},
   "outputs": [],
   "source": []
  }
 ],
 "metadata": {
  "kernelspec": {
   "display_name": "Python 3",
   "language": "python",
   "name": "python3"
  },
  "language_info": {
   "codemirror_mode": {
    "name": "ipython",
    "version": 3
   },
   "file_extension": ".py",
   "mimetype": "text/x-python",
   "name": "python",
   "nbconvert_exporter": "python",
   "pygments_lexer": "ipython3",
   "version": "3.11.6"
  },
  "orig_nbformat": 4
 },
 "nbformat": 4,
 "nbformat_minor": 2
}
