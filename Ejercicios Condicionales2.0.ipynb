{
 "cells": [
  {
   "attachments": {},
   "cell_type": "markdown",
   "metadata": {},
   "source": [
    "### Escribir un programa que pregunte al usuario su edad y muestre por pantalla si es mayor de edad o no."
   ]
  },
  {
   "cell_type": "code",
   "execution_count": 4,
   "metadata": {},
   "outputs": [
    {
     "name": "stdout",
     "output_type": "stream",
     "text": [
      "Eres menor de Edad\n"
     ]
    }
   ],
   "source": [
    "Edad = int(input(\"Escribe tu edad\"))\n",
    "if Edad <= 17:\n",
    "    print(\"Eres menor de Edad\")\n",
    "else:\n",
    "    print(\"Eres mayor de edad\")"
   ]
  },
  {
   "attachments": {},
   "cell_type": "markdown",
   "metadata": {},
   "source": [
    "###  Escribir un programa que almacene la cadena de caracteres contraseña en una variable, pregunte al usuario por la contraseña e imprima por pantalla si la contraseña introducida por el usuario coincide con la guardada en la variable sin tener en cuenta mayúsculas y minúsculas."
   ]
  },
  {
   "cell_type": "code",
   "execution_count": 8,
   "metadata": {},
   "outputs": [
    {
     "name": "stdout",
     "output_type": "stream",
     "text": [
      "Contraseña Incorrecta, Intentalo de nuevo\n"
     ]
    }
   ],
   "source": [
    "Contraseña_correcta = str(\"Baauer\")\n",
    "Contraseña = str(input(\"Introduce la contraseña\"))\n",
    "\n",
    "\n",
    "if Contraseña_correcta == Contraseña:\n",
    "    print(\"Contraseña correcta\")\n",
    "else:\n",
    "    print(\"Contraseña Incorrecta, Intentalo de nuevo\")\n",
    "    \n",
    "    \n",
    "    \n",
    "    # .lower  Convierte cadenas de texto a minusculas \n",
    "    "
   ]
  },
  {
   "attachments": {},
   "cell_type": "markdown",
   "metadata": {},
   "source": [
    "### Escribir un programa que pida al usuario dos números y muestre por pantalla su división. Si el divisor es cero el programa debe mostrar un error."
   ]
  },
  {
   "cell_type": "code",
   "execution_count": 23,
   "metadata": {},
   "outputs": [
    {
     "name": "stdout",
     "output_type": "stream",
     "text": [
      "Introduce dos numeros\n",
      "El numero 2 es incorrecto. introduce otro numero\n"
     ]
    }
   ],
   "source": [
    "print(\"Introduce dos numeros\")\n",
    "\n",
    "número_1 = int(input(\"Intriduce aqui el Dividendo\"))\n",
    "número_2 = int(input(\"Introduce aqui el Divisor\"))\n",
    "\n",
    "\n",
    "if número_2 == 0:\n",
    "    print(\"El numero 2 es incorrecto. introduce otro numero\")\n",
    "    número_2 = int(input(\"Introduce un número valído\"))\n",
    "else:\n",
    "     a = número_1 / número_2\n",
    "     print(f\"La suma de los dos números es: {float(a)}\")\n",
    "    \n",
    "\n"
   ]
  },
  {
   "attachments": {},
   "cell_type": "markdown",
   "metadata": {},
   "source": [
    "### Escribir un programa que pida al usuario un número entero y muestre por pantalla si es par o impar."
   ]
  },
  {
   "cell_type": "code",
   "execution_count": 28,
   "metadata": {},
   "outputs": [
    {
     "name": "stdout",
     "output_type": "stream",
     "text": [
      "El número 6 es par\n"
     ]
    }
   ],
   "source": [
    "Numero = int(input(\"Escribe un número\"))\n",
    "if Numero % 2 == 0:\n",
    "    print(f\"El número {Numero} es par\")\n",
    "else:\n",
    "    print(f\"El número {Numero} es impar\")\n",
    "    "
   ]
  },
  {
   "attachments": {},
   "cell_type": "markdown",
   "metadata": {},
   "source": [
    "### Para tributar un determinado impuesto se debe ser mayor de 16 años y tener unos ingresos iguales o superiores a 1000 € mensuales. Escribir un programa que pregunte al usuario su edad y sus ingresos mensuales y muestre por pantalla si el usuario tiene que tributar o no."
   ]
  },
  {
   "cell_type": "code",
   "execution_count": 38,
   "metadata": {},
   "outputs": [
    {
     "name": "stdout",
     "output_type": "stream",
     "text": [
      "Lo sentimos por el momento no puede tributar\n"
     ]
    }
   ],
   "source": [
    "Edad = int(input(\"Escribe tu edad\"))\n",
    "Ingresos = float(input(\"Ingresa tus ingresos mensualmente\"))\n",
    "\n",
    "\n",
    "if Edad < 16:\n",
    "    print(\"Lo sentimos por el momento no puede tributar\")\n",
    "elif Ingresos <= 999:\n",
    "    print(\"Lo sentimos por el momento no puede tributar\")\n",
    "else:\n",
    "    print(\"Es posible tributar\")\n",
    "    "
   ]
  },
  {
   "attachments": {},
   "cell_type": "markdown",
   "metadata": {},
   "source": [
    "### Los alumnos de un curso se han dividido en dos grupos A y B de acuerdo al sexo y el nombre. El grupo A esta formado por las mujeres con un nombre anterior a la M y los hombres con un nombre posterior a la N y el grupo B por el resto. Escribir un programa que pregunte al usuario su nombre y sexo, y muestre por pantalla el grupo que le corresponde."
   ]
  },
  {
   "cell_type": "code",
   "execution_count": 46,
   "metadata": {},
   "outputs": [
    {
     "name": "stdout",
     "output_type": "stream",
     "text": [
      "Tu grupo es B\n"
     ]
    }
   ],
   "source": [
    "name = input(\"¿Cómo te llamas? \")\n",
    "gender = input(\"¿Cuál es tu sexo (M o H)? \")\n",
    "if gender == \"M\":\n",
    "    if name.lower() < \"m\":\n",
    "        group = \"A\"\n",
    "    else:\n",
    "        group = \"B\"\n",
    "else:\n",
    "    if name.lower() > \"n\":\n",
    "        group = \"A\"\n",
    "    else:\n",
    "        group = \"B\"\n",
    "print(\"Tu grupo es \" + group)"
   ]
  },
  {
   "attachments": {},
   "cell_type": "markdown",
   "metadata": {},
   "source": [
    "### Escribir un programa que pregunte al usuario su renta anual y muestre por pantalla el tipo impositivo que le corresponde.\n",
    "\n",
    "Renta\tTipo impositivo\n",
    "Menos de 10000€\t5%\n",
    "Entre 10000€ y 20000€\t15%\n",
    "Entre 20000€ y 35000€\t20%\n",
    "Entre 35000€ y 60000€\t30%\n",
    "Más de 60000€\t45%"
   ]
  },
  {
   "cell_type": "code",
   "execution_count": 51,
   "metadata": {},
   "outputs": [
    {
     "name": "stdout",
     "output_type": "stream",
     "text": [
      "Te corresponde 45%, de: 564544.0\n",
      "Tienes que pagar  254044.8 €\n"
     ]
    }
   ],
   "source": [
    "Renta_anual = float(input(\"Ingresa el pegao de tu renta anual\"))\n",
    "\n",
    "\n",
    "if Renta_anual < 10000:\n",
    "    print(f\"Te corresponde 5%, de: {Renta_anual} \")\n",
    "    tipo = 5\n",
    "elif Renta_anual < 20000:\n",
    "    print(f\"Te corresponde 15%, de: {Renta_anual}\")\n",
    "    tipo = 15\n",
    "elif Renta_anual < 35000:\n",
    "    print(f\"Te corresponde 20%, de: {Renta_anual}\")\n",
    "    tipo = 20\n",
    "elif Renta_anual < 60000:\n",
    "    print(f\"Te corresponde 30%, de: {Renta_anual}\")\n",
    "    tipo = 30\n",
    "else:\n",
    "    print(f\"Te corresponde 45%, de: {Renta_anual}\")\n",
    "    tipo = 45\n",
    "print(\"Tienes que pagar \", Renta_anual * tipo / 100, \"€\")"
   ]
  },
  {
   "attachments": {},
   "cell_type": "markdown",
   "metadata": {},
   "source": [
    "### En una determinada empresa, sus empleados son evaluados al final de cada año. Los puntos que pueden obtener en la evaluación comienzan en 0.0 y pueden ir aumentando, traduciéndose en mejores beneficios. Los puntos que pueden conseguir los empleados pueden ser 0.0, 0.4, 0.6 o más, pero no valores intermedios entre las cifras mencionadas. A continuación se muestra una tabla con los niveles correspondientes a cada puntuación. La cantidad de dinero conseguida en cada nivel es de 2.400€ multiplicada por la puntuación del nivel.\n",
    "\n",
    "Nivel\tPuntuación\n",
    "Inaceptable\t0.0\n",
    "Aceptable\t0.4\n",
    "Meritorio\t0.6 o más"
   ]
  },
  {
   "cell_type": "code",
   "execution_count": null,
   "metadata": {},
   "outputs": [],
   "source": []
  }
 ],
 "metadata": {
  "kernelspec": {
   "display_name": "Python 3",
   "language": "python",
   "name": "python3"
  },
  "language_info": {
   "codemirror_mode": {
    "name": "ipython",
    "version": 3
   },
   "file_extension": ".py",
   "mimetype": "text/x-python",
   "name": "python",
   "nbconvert_exporter": "python",
   "pygments_lexer": "ipython3",
   "version": "3.11.6"
  },
  "orig_nbformat": 4
 },
 "nbformat": 4,
 "nbformat_minor": 2
}
